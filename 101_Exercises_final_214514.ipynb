{
  "cells": [
    {
      "cell_type": "markdown",
      "metadata": {
        "id": "view-in-github",
        "colab_type": "text"
      },
      "source": [
        "<a href=\"https://colab.research.google.com/github/saivedacharan/veda/blob/main/101_Exercises_final_214514.ipynb\" target=\"_parent\"><img src=\"https://colab.research.google.com/assets/colab-badge.svg\" alt=\"Open In Colab\"/></a>"
      ]
    },
    {
      "cell_type": "code",
      "execution_count": null,
      "id": "270ffd4d",
      "metadata": {
        "id": "270ffd4d",
        "outputId": "f0e80d74-28f8-49c0-f886-6e0f557d57e2"
      },
      "outputs": [
        {
          "name": "stdout",
          "output_type": "stream",
          "text": [
            "False\n"
          ]
        }
      ],
      "source": [
        "# Exercise 1\n",
        "on_mars_right = False\n",
        "print(on_mars_right)"
      ]
    },
    {
      "cell_type": "code",
      "execution_count": null,
      "id": "728abbdc",
      "metadata": {
        "id": "728abbdc",
        "outputId": "404ee457-746d-47b3-ab80-0624c8c86a5b"
      },
      "outputs": [
        {
          "name": "stdout",
          "output_type": "stream",
          "text": [
            "['mango', 'banana', 'guava', 'kiwi', 'strawberry']\n"
          ]
        }
      ],
      "source": [
        "# Exercise 2\n",
        "fruits = [\"mango\", \"banana\", \"guava\", \"kiwi\", \"strawberry\"]\n",
        "print(fruits)"
      ]
    },
    {
      "cell_type": "code",
      "execution_count": null,
      "id": "d1b21f3c",
      "metadata": {
        "id": "d1b21f3c",
        "outputId": "6d9de2c9-88fb-4915-e923-67bd010924da"
      },
      "outputs": [
        {
          "name": "stdout",
          "output_type": "stream",
          "text": [
            "['eggplant', 'broccoli', 'carrot', 'cauliflower', 'zucchini']\n"
          ]
        }
      ],
      "source": [
        "# Exercise 3\n",
        "vegetables = [\"eggplant\", \"broccoli\", \"carrot\", \"cauliflower\", \"zucchini\"] \n",
        "print(vegetables)"
      ]
    },
    {
      "cell_type": "code",
      "execution_count": null,
      "id": "554f3b11",
      "metadata": {
        "id": "554f3b11",
        "outputId": "6d0f84af-8c39-4acc-8054-7585f008f336"
      },
      "outputs": [
        {
          "name": "stdout",
          "output_type": "stream",
          "text": [
            "[1, 2, 3, 4, 5, 6, 7, 8, 9, 10]\n"
          ]
        }
      ],
      "source": [
        "# Exercise 4\n",
        "numbers = [1, 2, 3, 4, 5, 6, 7, 8, 9, 10]\n",
        "print(numbers)"
      ]
    },
    {
      "cell_type": "code",
      "execution_count": null,
      "id": "21335768",
      "metadata": {
        "id": "21335768",
        "outputId": "65fcd3c7-8cef-40d0-db57-6728c3958fd5"
      },
      "outputs": [
        {
          "name": "stdout",
          "output_type": "stream",
          "text": [
            "['mango', 'banana', 'guava', 'kiwi', 'strawberry', 'tomato']\n"
          ]
        }
      ],
      "source": [
        "# Exercise 5\n",
        "fruits = [\"mango\", \"banana\", \"guava\", \"kiwi\", \"strawberry\"]\n",
        "fruits.append(\"tomato\")\n",
        "print(fruits)"
      ]
    },
    {
      "cell_type": "code",
      "execution_count": null,
      "id": "29772966",
      "metadata": {
        "id": "29772966",
        "outputId": "a15695ac-f156-4743-945b-3e0085e94fb2"
      },
      "outputs": [
        {
          "name": "stdout",
          "output_type": "stream",
          "text": [
            "['eggplant', 'broccoli', 'carrot', 'cauliflower', 'zucchini', 'tomato']\n"
          ]
        }
      ],
      "source": [
        "# Exercise 6\n",
        "vegetables = [\"eggplant\", \"broccoli\", \"carrot\", \"cauliflower\", \"zucchini\"]\n",
        "vegetables.append(\"tomato\")\n",
        "print(vegetables)"
      ]
    },
    {
      "cell_type": "code",
      "execution_count": null,
      "id": "9e440664",
      "metadata": {
        "id": "9e440664",
        "outputId": "dab06b7b-01d5-4079-fcf7-2036aac42605"
      },
      "outputs": [
        {
          "name": "stdout",
          "output_type": "stream",
          "text": [
            "[10, 9, 8, 7, 6, 5, 4, 3, 2, 1]\n"
          ]
        }
      ],
      "source": [
        "# Exercise 7\n",
        "numbers = [1, 2, 3, 4, 5, 6, 7, 8, 9, 10]\n",
        "numbers.reverse()\n",
        "print(numbers)"
      ]
    },
    {
      "cell_type": "code",
      "execution_count": null,
      "id": "0d791724",
      "metadata": {
        "id": "0d791724",
        "outputId": "17fe50b8-ce02-4742-d6aa-edb4b234e96b"
      },
      "outputs": [
        {
          "name": "stdout",
          "output_type": "stream",
          "text": [
            "['broccoli', 'carrot', 'cauliflower', 'eggplant', 'tomato', 'zucchini']\n"
          ]
        }
      ],
      "source": [
        "# Exercise 8\n",
        "vegetables.sort()\n",
        "print(vegetables)"
      ]
    },
    {
      "cell_type": "code",
      "execution_count": null,
      "id": "ea43898d",
      "metadata": {
        "id": "ea43898d",
        "outputId": "f0077fbd-28ad-4605-e90e-7550bd93e84b"
      },
      "outputs": [
        {
          "name": "stdout",
          "output_type": "stream",
          "text": [
            "['tomato', 'strawberry', 'mango', 'kiwi', 'guava', 'banana']\n"
          ]
        }
      ],
      "source": [
        "# Exercise 9\n",
        "fruits.sort(reverse=True)\n",
        "print(fruits)"
      ]
    },
    {
      "cell_type": "code",
      "execution_count": null,
      "id": "5a311aad",
      "metadata": {
        "id": "5a311aad",
        "outputId": "aab4ef09-8a34-4c63-9b63-ba4861a3594e"
      },
      "outputs": [
        {
          "name": "stdout",
          "output_type": "stream",
          "text": [
            "['tomato', 'strawberry', 'mango', 'kiwi', 'guava', 'banana', 'broccoli', 'carrot', 'cauliflower', 'eggplant', 'tomato', 'zucchini']\n"
          ]
        }
      ],
      "source": [
        "# Exercise 10\n",
        "fruits_and_veggies = fruits + vegetables\n",
        "print(fruits_and_veggies)"
      ]
    },
    {
      "cell_type": "code",
      "execution_count": null,
      "id": "6d200250",
      "metadata": {
        "id": "6d200250",
        "outputId": "eccbdb7f-15dd-4e67-a2a0-87d2707f3587"
      },
      "outputs": [
        {
          "name": "stdout",
          "output_type": "stream",
          "text": [
            "3\n"
          ]
        }
      ],
      "source": [
        "# Exercise 11\n",
        "def add_one(n):\n",
        "    return n + 1\n",
        "\n",
        "print(add_one(2))"
      ]
    },
    {
      "cell_type": "code",
      "execution_count": null,
      "id": "9e1c8e50",
      "metadata": {
        "id": "9e1c8e50",
        "outputId": "7f6a1cd4-11ac-42d1-a20d-ffe0f6d28b43"
      },
      "outputs": [
        {
          "name": "stdout",
          "output_type": "stream",
          "text": [
            "False\n",
            "False\n",
            "True\n"
          ]
        }
      ],
      "source": [
        "# Exercise 12\n",
        "def is_positive(n):\n",
        "    if n > 0:\n",
        "        return True\n",
        "    else:\n",
        "        return False\n",
        "print(is_positive(0))\n",
        "print(is_positive(-1))\n",
        "print(is_positive(1))"
      ]
    },
    {
      "cell_type": "code",
      "execution_count": null,
      "id": "d272bbce",
      "metadata": {
        "id": "d272bbce",
        "outputId": "d15ec2f2-5daa-440b-c5f4-bd6d3f85570b"
      },
      "outputs": [
        {
          "name": "stdout",
          "output_type": "stream",
          "text": [
            "False\n",
            "True\n",
            "False\n"
          ]
        }
      ],
      "source": [
        "# Exercise 13\n",
        "def is_negative(n):\n",
        "    if n < 0:\n",
        "        return True\n",
        "    else:\n",
        "        return False\n",
        "print(is_negative(0))\n",
        "print(is_negative(-1))\n",
        "print(is_negative(1))"
      ]
    },
    {
      "cell_type": "code",
      "execution_count": null,
      "id": "bbde25dc",
      "metadata": {
        "id": "bbde25dc",
        "outputId": "61527508-9f2b-4b5e-bfea-ea2e42c89f0a"
      },
      "outputs": [
        {
          "name": "stdout",
          "output_type": "stream",
          "text": [
            "True\n",
            "False\n"
          ]
        }
      ],
      "source": [
        "# Exercise 14\n",
        "def is_odd(n):\n",
        "    if n%2 != 0:\n",
        "        return True\n",
        "    else:\n",
        "        return False\n",
        "\n",
        "print(is_odd(3))\n",
        "print(is_odd(-4))"
      ]
    },
    {
      "cell_type": "code",
      "execution_count": null,
      "id": "2bf2b647",
      "metadata": {
        "id": "2bf2b647",
        "outputId": "e887845e-0a9a-48d9-c5dd-6d6644e51aa9"
      },
      "outputs": [
        {
          "name": "stdout",
          "output_type": "stream",
          "text": [
            "False\n",
            "True\n"
          ]
        }
      ],
      "source": [
        "# Exercise 15\n",
        "def is_even(n):\n",
        "    if n%2 == 0:\n",
        "        return True\n",
        "    else:\n",
        "        return False\n",
        "\n",
        "print(is_even(5))\n",
        "print(is_even(-4))"
      ]
    },
    {
      "cell_type": "code",
      "execution_count": null,
      "id": "166c3c67",
      "metadata": {
        "id": "166c3c67",
        "outputId": "f5821f21-ba94-426b-dbdf-66350a866bf9"
      },
      "outputs": [
        {
          "name": "stdout",
          "output_type": "stream",
          "text": [
            "apple\n"
          ]
        }
      ],
      "source": [
        "# Exercise 16\n",
        "def identity(n):\n",
        "    return n\n",
        "\n",
        "print(identity(\"apple\"))"
      ]
    },
    {
      "cell_type": "code",
      "execution_count": null,
      "id": "5ca61ecb",
      "metadata": {
        "id": "5ca61ecb",
        "outputId": "614bf43b-7917-4858-cfd8-1314dae383b3"
      },
      "outputs": [
        {
          "name": "stdout",
          "output_type": "stream",
          "text": [
            "False\n",
            "True\n",
            "False\n"
          ]
        }
      ],
      "source": [
        "# Exercise 17\n",
        "def is_positive_odd(n):\n",
        "    if n > 0 and n%2 != 0:\n",
        "        return True\n",
        "    else:\n",
        "        return False\n",
        "    \n",
        "print(is_positive_odd(-3))\n",
        "print(is_positive_odd(3))\n",
        "print(is_positive_odd(0))"
      ]
    },
    {
      "cell_type": "code",
      "execution_count": null,
      "id": "d19748b1",
      "metadata": {
        "id": "d19748b1",
        "outputId": "5006bacf-4f11-4b7d-9a0a-5dd9550f79b9"
      },
      "outputs": [
        {
          "name": "stdout",
          "output_type": "stream",
          "text": [
            "False\n",
            "True\n",
            "False\n"
          ]
        }
      ],
      "source": [
        "# Exercise 18\n",
        "def is_positive_even(n):\n",
        "    if n > 0 and n%2 == 0:\n",
        "        return True\n",
        "    else:\n",
        "        return False\n",
        "    \n",
        "print(is_positive_even(-2))\n",
        "print(is_positive_even(2))\n",
        "print(is_positive_even(0))"
      ]
    },
    {
      "cell_type": "code",
      "execution_count": null,
      "id": "2764264d",
      "metadata": {
        "id": "2764264d",
        "outputId": "413a692a-9b63-4dbb-b62b-0fc3921a2a7c"
      },
      "outputs": [
        {
          "name": "stdout",
          "output_type": "stream",
          "text": [
            "True\n",
            "False\n",
            "False\n"
          ]
        }
      ],
      "source": [
        "# Exercise 19\n",
        "def is_negative_odd(n):\n",
        "    if n < 0 and n%2 != 0:\n",
        "        return True\n",
        "    else:\n",
        "        return False\n",
        "\n",
        "print(is_negative_odd(-3))\n",
        "print(is_negative_odd(3))\n",
        "print(is_negative_odd(0))"
      ]
    },
    {
      "cell_type": "code",
      "execution_count": null,
      "id": "4b1b7557",
      "metadata": {
        "id": "4b1b7557",
        "outputId": "6a1e32f6-cbf0-4633-d292-f68b806164b5"
      },
      "outputs": [
        {
          "name": "stdout",
          "output_type": "stream",
          "text": [
            "True\n",
            "False\n",
            "False\n"
          ]
        }
      ],
      "source": [
        "# Exercise 20\n",
        "def is_negative_even(n):\n",
        "    if n < 0 and n%2 == 0:\n",
        "        return True\n",
        "    else:\n",
        "        return False\n",
        "\n",
        "print(is_negative_even(-2))\n",
        "print(is_negative_even(2))\n",
        "print(is_negative_even(0))"
      ]
    },
    {
      "cell_type": "code",
      "execution_count": null,
      "id": "db869e99",
      "metadata": {
        "id": "db869e99",
        "outputId": "1d1b3964-4028-48ed-e9db-74ef11bd8536"
      },
      "outputs": [
        {
          "name": "stdout",
          "output_type": "stream",
          "text": [
            "1.5\n",
            "5.0\n"
          ]
        }
      ],
      "source": [
        "# Exercise 21\n",
        "def half(n):\n",
        "    return n / 2\n",
        "\n",
        "print(half(3))\n",
        "print(half(10))"
      ]
    },
    {
      "cell_type": "code",
      "execution_count": null,
      "id": "08a41fe3",
      "metadata": {
        "id": "08a41fe3",
        "outputId": "6a258500-87ba-41eb-c6c3-587ef1ae90d4"
      },
      "outputs": [
        {
          "name": "stdout",
          "output_type": "stream",
          "text": [
            "8\n"
          ]
        }
      ],
      "source": [
        "# Exercise 22\n",
        "def double(n):\n",
        "    return 2 * n\n",
        "\n",
        "print(double(4))"
      ]
    },
    {
      "cell_type": "code",
      "execution_count": null,
      "id": "4de46841",
      "metadata": {
        "id": "4de46841",
        "outputId": "31fc0501-e8b8-4fac-9aea-cde37ddcc992"
      },
      "outputs": [
        {
          "name": "stdout",
          "output_type": "stream",
          "text": [
            "12\n"
          ]
        }
      ],
      "source": [
        "# Exercise 23\n",
        "def triple(n):\n",
        "    return 3 * n\n",
        "\n",
        "print(triple(4))"
      ]
    },
    {
      "cell_type": "code",
      "execution_count": null,
      "id": "ed803932",
      "metadata": {
        "id": "ed803932",
        "outputId": "95d635d7-0113-4438-a5e6-b6db06996a8f"
      },
      "outputs": [
        {
          "name": "stdout",
          "output_type": "stream",
          "text": [
            "-12\n",
            "12\n"
          ]
        }
      ],
      "source": [
        "# Exercise 24\n",
        "def reverse_sign(n):\n",
        "    return n * -1\n",
        "\n",
        "print(reverse_sign(12))\n",
        "print(reverse_sign(-12))"
      ]
    },
    {
      "cell_type": "code",
      "execution_count": null,
      "id": "1c7de09c",
      "metadata": {
        "id": "1c7de09c",
        "outputId": "3e5eac99-942d-43ee-811b-ff9510f0143e"
      },
      "outputs": [
        {
          "name": "stdout",
          "output_type": "stream",
          "text": [
            "12\n",
            "12\n"
          ]
        }
      ],
      "source": [
        "# Exercise 25\n",
        "def absolute_value(n):\n",
        "    if n < 0:\n",
        "        return n * -1 \n",
        "    else:\n",
        "        return n\n",
        "\n",
        "print(absolute_value(-12))\n",
        "print(absolute_value(12))"
      ]
    },
    {
      "cell_type": "code",
      "execution_count": null,
      "id": "478398e9",
      "metadata": {
        "id": "478398e9",
        "outputId": "7ff8ed68-52c2-41fe-eb22-444bc4c514db"
      },
      "outputs": [
        {
          "name": "stdout",
          "output_type": "stream",
          "text": [
            "True\n",
            "False\n"
          ]
        }
      ],
      "source": [
        "# Exercise 26\n",
        "def is_multiple_of_three(n):\n",
        "    if n % 3 == 0:\n",
        "        return True\n",
        "    else:\n",
        "        return False\n",
        "    \n",
        "print(is_multiple_of_three(6))\n",
        "print(is_multiple_of_three(5))"
      ]
    },
    {
      "cell_type": "code",
      "execution_count": null,
      "id": "d336267f",
      "metadata": {
        "id": "d336267f",
        "outputId": "dbe6fc44-13f5-4282-b16b-1c6dcf503f7e"
      },
      "outputs": [
        {
          "name": "stdout",
          "output_type": "stream",
          "text": [
            "True\n",
            "False\n"
          ]
        }
      ],
      "source": [
        "# Exercise 27\n",
        "def is_multiple_of_five(n):\n",
        "    if n % 5 == 0:\n",
        "        return True\n",
        "    else:\n",
        "        return False\n",
        "    \n",
        "print(is_multiple_of_five(60))\n",
        "print(is_multiple_of_three(2))"
      ]
    },
    {
      "cell_type": "code",
      "execution_count": null,
      "id": "19afb83f",
      "metadata": {
        "id": "19afb83f",
        "outputId": "8c2fd649-2fa6-43ff-a21d-1e61b03ef6bb"
      },
      "outputs": [
        {
          "name": "stdout",
          "output_type": "stream",
          "text": [
            "False\n",
            "True\n",
            "False\n",
            "False\n"
          ]
        }
      ],
      "source": [
        "# Exercise 28\n",
        "def is_multiple_of_both_three_and_five(n):\n",
        "    if n % 3 == 0 and n % 5 == 0:\n",
        "        return True\n",
        "    else:\n",
        "        return False\n",
        "    \n",
        "print(is_multiple_of_both_three_and_five(6))\n",
        "print(is_multiple_of_both_three_and_five(15))\n",
        "print(is_multiple_of_both_three_and_five(5))\n",
        "print(is_multiple_of_both_three_and_five(4))"
      ]
    },
    {
      "cell_type": "code",
      "execution_count": null,
      "id": "b9263333",
      "metadata": {
        "id": "b9263333",
        "outputId": "c7898e75-e094-47a2-f20d-b2d95df0af58"
      },
      "outputs": [
        {
          "name": "stdout",
          "output_type": "stream",
          "text": [
            "9\n"
          ]
        }
      ],
      "source": [
        "# Exercise 29\n",
        "def square(n):\n",
        "    return n * n\n",
        "\n",
        "print(square(3))"
      ]
    },
    {
      "cell_type": "code",
      "execution_count": null,
      "id": "17ef3daf",
      "metadata": {
        "id": "17ef3daf",
        "outputId": "a5ce9d6c-304f-4555-b54c-37d661b55029"
      },
      "outputs": [
        {
          "name": "stdout",
          "output_type": "stream",
          "text": [
            "2\n"
          ]
        }
      ],
      "source": [
        "# Exercise 30\n",
        "def add(a, b):\n",
        "    return a + b\n",
        "\n",
        "print(add(3, -1))"
      ]
    },
    {
      "cell_type": "code",
      "execution_count": null,
      "id": "0d353ddb",
      "metadata": {
        "id": "0d353ddb",
        "outputId": "199d77b3-5f26-4434-a313-192a209c524f"
      },
      "outputs": [
        {
          "name": "stdout",
          "output_type": "stream",
          "text": [
            "27\n"
          ]
        }
      ],
      "source": [
        "# Exercise 31\n",
        "def cube(n):\n",
        "    return n ** 3\n",
        "\n",
        "print(cube(3))"
      ]
    },
    {
      "cell_type": "code",
      "execution_count": null,
      "id": "6f8de1f6",
      "metadata": {
        "id": "6f8de1f6",
        "outputId": "f6b70304-d0ff-4a19-b085-aad375c2de5e"
      },
      "outputs": [
        {
          "name": "stdout",
          "output_type": "stream",
          "text": [
            "4.0\n"
          ]
        }
      ],
      "source": [
        "# Exercise 32\n",
        "import math\n",
        "def square_root(n):\n",
        "    return math.sqrt(n)\n",
        "\n",
        "print(square_root(16))"
      ]
    },
    {
      "cell_type": "code",
      "execution_count": null,
      "id": "bc6b2335",
      "metadata": {
        "id": "bc6b2335",
        "outputId": "abc23021-c15c-49f2-e29c-d1c63c9c23de"
      },
      "outputs": [
        {
          "name": "stdout",
          "output_type": "stream",
          "text": [
            "5\n"
          ]
        }
      ],
      "source": [
        "# Exercise 33\n",
        "def subtract(a, b):\n",
        "    return a - b\n",
        "\n",
        "print(subtract(8, 3))"
      ]
    },
    {
      "cell_type": "code",
      "execution_count": null,
      "id": "7ef86c3f",
      "metadata": {
        "id": "7ef86c3f",
        "outputId": "2996b264-ce91-4c90-c32c-e1fd1a816445"
      },
      "outputs": [
        {
          "name": "stdout",
          "output_type": "stream",
          "text": [
            "6\n"
          ]
        }
      ],
      "source": [
        "# Exercise 34\n",
        "def multiply(a, b):\n",
        "    return a * b\n",
        "\n",
        "print(multiply(2, 3))"
      ]
    },
    {
      "cell_type": "code",
      "execution_count": null,
      "id": "6324dd41",
      "metadata": {
        "id": "6324dd41",
        "outputId": "9910fab0-440e-4053-ee0b-59d1f468e3d4"
      },
      "outputs": [
        {
          "name": "stdout",
          "output_type": "stream",
          "text": [
            "3.0\n",
            "2.5\n"
          ]
        }
      ],
      "source": [
        "# Exercise 35\n",
        "def divide(a, b):\n",
        "    return a / b\n",
        "\n",
        "print(divide(27, 9))\n",
        "print(divide(5, 2))"
      ]
    },
    {
      "cell_type": "code",
      "execution_count": null,
      "id": "63393720",
      "metadata": {
        "id": "63393720",
        "outputId": "6bdb073d-095c-4260-df2d-568be50fcfc2"
      },
      "outputs": [
        {
          "name": "stdout",
          "output_type": "stream",
          "text": [
            "9\n",
            "3\n"
          ]
        }
      ],
      "source": [
        "# Exercise 36\n",
        "def quotient(a, b):\n",
        "    return a // b\n",
        "\n",
        "print(quotient(27, 3))\n",
        "print(quotient(10, 3))"
      ]
    },
    {
      "cell_type": "code",
      "execution_count": null,
      "id": "1e0a151f",
      "metadata": {
        "id": "1e0a151f",
        "outputId": "3021aacb-712d-4923-ca4a-f3444b4d8b1d"
      },
      "outputs": [
        {
          "name": "stdout",
          "output_type": "stream",
          "text": [
            "0\n",
            "1\n"
          ]
        }
      ],
      "source": [
        "# Exercise 37\n",
        "def remainder(a, b):\n",
        "    return a % b\n",
        "\n",
        "print(remainder(3, 3))\n",
        "print(remainder(5, 2))"
      ]
    },
    {
      "cell_type": "code",
      "execution_count": null,
      "id": "49657f69",
      "metadata": {
        "id": "49657f69",
        "outputId": "2ae99169-8171-49df-fb89-e1fc436df768"
      },
      "outputs": [
        {
          "name": "stdout",
          "output_type": "stream",
          "text": [
            "13\n"
          ]
        }
      ],
      "source": [
        "# Exercise 38\n",
        "def sum_of_squares(a, b):\n",
        "    return a ** 2 + b ** 2\n",
        "\n",
        "print(sum_of_squares(3, 2))"
      ]
    },
    {
      "cell_type": "code",
      "execution_count": null,
      "id": "822ba55d",
      "metadata": {
        "id": "822ba55d",
        "outputId": "0be973b7-6ba4-44f7-fe24-f78e867dacf8"
      },
      "outputs": [
        {
          "name": "stdout",
          "output_type": "stream",
          "text": [
            "7\n"
          ]
        }
      ],
      "source": [
        "# Exercise 39\n",
        "def times_two_plus_three(n):\n",
        "    return n * 2 + 3\n",
        "\n",
        "print(times_two_plus_three(2))"
      ]
    },
    {
      "cell_type": "code",
      "execution_count": null,
      "id": "5c413b4b",
      "metadata": {
        "id": "5c413b4b",
        "outputId": "717319c1-3def-47fe-cc98-8db0c26a323d"
      },
      "outputs": [
        {
          "name": "stdout",
          "output_type": "stream",
          "text": [
            "10\n"
          ]
        }
      ],
      "source": [
        "# Exercise 40\n",
        "def area_of_rectangle(a, b):\n",
        "    return a * b\n",
        "\n",
        "print(area_of_rectangle(5, 2))"
      ]
    },
    {
      "cell_type": "code",
      "execution_count": null,
      "id": "fe957306",
      "metadata": {
        "id": "fe957306",
        "outputId": "54e69da7-d1e6-47b3-fa31-7e79ac169415"
      },
      "outputs": [
        {
          "name": "stdout",
          "output_type": "stream",
          "text": [
            "28.274333882308138\n"
          ]
        }
      ],
      "source": [
        "# Exercise 41\n",
        "import math\n",
        "def area_of_circle(n):\n",
        "    return math.pi * (n ** 2)\n",
        "\n",
        "print(area_of_circle(3))"
      ]
    },
    {
      "cell_type": "code",
      "execution_count": null,
      "id": "78da0854",
      "metadata": {
        "id": "78da0854",
        "outputId": "4e955f28-ffb8-47bf-c2f8-3b38b87c3e05"
      },
      "outputs": [
        {
          "name": "stdout",
          "output_type": "stream",
          "text": [
            "18.84955592153876\n"
          ]
        }
      ],
      "source": [
        "# Exercise 42\n",
        "import math\n",
        "def circumference(n):\n",
        "    return 2 * math.pi * n\n",
        "\n",
        "print(circumference(3))"
      ]
    },
    {
      "cell_type": "code",
      "execution_count": null,
      "id": "0c066813",
      "metadata": {
        "id": "0c066813",
        "outputId": "7072c805-50e3-4181-f319-553228fe9838"
      },
      "outputs": [
        {
          "name": "stdout",
          "output_type": "stream",
          "text": [
            "True\n",
            "True\n",
            "True\n",
            "False\n",
            "False\n",
            "False\n"
          ]
        }
      ],
      "source": [
        "# Exercise 43\n",
        "def is_vowel(s):\n",
        "    vowels = [\"a\", \"e\", \"i\", \"o\", \"u\"]\n",
        "    if s.lower() in vowels:\n",
        "        return True\n",
        "    else:\n",
        "        return False\n",
        "\n",
        "print(is_vowel(\"a\"))\n",
        "print(is_vowel(\"E\"))\n",
        "print(is_vowel(\"A\"))\n",
        "print(is_vowel(\"B\"))\n",
        "print(is_vowel(\"c\"))\n",
        "print(is_vowel(\"Banana\"))"
      ]
    },
    {
      "cell_type": "code",
      "execution_count": null,
      "id": "e9d07270",
      "metadata": {
        "id": "e9d07270",
        "outputId": "30b25c3a-ee10-4787-d73a-8826a17ce3c6"
      },
      "outputs": [
        {
          "name": "stdout",
          "output_type": "stream",
          "text": [
            "True\n",
            "False\n"
          ]
        }
      ],
      "source": [
        "# Exercise 44\n",
        "def has_vowels(s):\n",
        "    vowels = [\"a\", \"e\", \"i\", \"o\", \"u\"]\n",
        "    for letter in s.lower():\n",
        "        if letter in vowels:\n",
        "            return True\n",
        "    return False\n",
        "\n",
        "print(has_vowels(\"banana\"))\n",
        "print(has_vowels(\"wyrd\"))"
      ]
    },
    {
      "cell_type": "code",
      "execution_count": null,
      "id": "c3c97430",
      "metadata": {
        "id": "c3c97430",
        "outputId": "90b9eeee-108a-4658-e078-307b4c83f512"
      },
      "outputs": [
        {
          "name": "stdout",
          "output_type": "stream",
          "text": [
            "3\n",
            "0\n"
          ]
        }
      ],
      "source": [
        "# Exercise 45\n",
        "def count_vowels(s):\n",
        "    vowels = [\"a\", \"e\", \"i\", \"o\", \"u\"]\n",
        "    count = 0\n",
        "    for letter in s.lower():\n",
        "        if letter in vowels:\n",
        "            count += 1\n",
        "    return count\n",
        "\n",
        "print(count_vowels(\"banana\"))\n",
        "print(count_vowels(\"wyrd\"))"
      ]
    },
    {
      "cell_type": "code",
      "execution_count": null,
      "id": "79425aee",
      "metadata": {
        "id": "79425aee",
        "outputId": "dcb5c052-22e8-44ff-85dc-854440107f5a"
      },
      "outputs": [
        {
          "name": "stdout",
          "output_type": "stream",
          "text": [
            "bnn\n",
            "bnt\n",
            "wyrd\n"
          ]
        }
      ],
      "source": [
        "# Exercise 46\n",
        "def remove_vowels(s):\n",
        "    res = \"\"\n",
        "    vowels = [\"a\", \"e\", \"i\", \"o\", \"u\"]\n",
        "    for letter in s.lower():\n",
        "        if letter not in vowels:\n",
        "            res += letter\n",
        "    return res\n",
        "\n",
        "print(remove_vowels(\"banana\"))\n",
        "print(remove_vowels(\"ubuntu\"))\n",
        "print(remove_vowels(\"wyrd\"))"
      ]
    },
    {
      "cell_type": "code",
      "execution_count": null,
      "id": "aa7a6fb7",
      "metadata": {
        "id": "aa7a6fb7",
        "outputId": "06b65e69-cf3b-4c64-a213-324bedaa1fac"
      },
      "outputs": [
        {
          "name": "stdout",
          "output_type": "stream",
          "text": [
            "True\n",
            "False\n"
          ]
        }
      ],
      "source": [
        "# Exercise 47\n",
        "def starts_with_vowel(s):\n",
        "    vowels = [\"a\", \"e\", \"i\", \"o\", \"u\"]\n",
        "    if s[0].lower() in vowels:\n",
        "        return True\n",
        "    else:\n",
        "        return False\n",
        "    \n",
        "print(starts_with_vowel(\"ubuntu\"))\n",
        "print(starts_with_vowel(\"banana\"))"
      ]
    },
    {
      "cell_type": "code",
      "execution_count": null,
      "id": "1c51bca9",
      "metadata": {
        "id": "1c51bca9",
        "outputId": "38f4efee-7a1d-4e28-cf12-5e110c5952fa"
      },
      "outputs": [
        {
          "name": "stdout",
          "output_type": "stream",
          "text": [
            "True\n",
            "False\n"
          ]
        }
      ],
      "source": [
        "# Exercise 48\n",
        "def ends_with_vowel(s):\n",
        "    vowels = [\"a\", \"e\", \"i\", \"o\", \"u\"]\n",
        "    if s[-1].lower() in vowels:\n",
        "        return True\n",
        "    else:\n",
        "        return False\n",
        "    \n",
        "print(ends_with_vowel(\"ubuntu\"))\n",
        "print(ends_with_vowel(\"spinach\"))"
      ]
    },
    {
      "cell_type": "code",
      "execution_count": null,
      "id": "f2ab9915",
      "metadata": {
        "id": "f2ab9915",
        "outputId": "f4de548e-79d6-4f18-c30d-c194bfa68005"
      },
      "outputs": [
        {
          "name": "stdout",
          "output_type": "stream",
          "text": [
            "True\n",
            "False\n"
          ]
        }
      ],
      "source": [
        "# Exercise 49\n",
        "def starts_and_ends_with_vowel(s):\n",
        "    vowels = [\"a\", \"e\", \"i\", \"o\", \"u\"]\n",
        "    if s[0] in vowels and s[-1] in vowels:\n",
        "        return True\n",
        "    else:\n",
        "        return False\n",
        "    \n",
        "print(starts_and_ends_with_vowel(\"ubuntu\"))\n",
        "print(starts_and_ends_with_vowel(\"banana\"))"
      ]
    },
    {
      "cell_type": "code",
      "execution_count": null,
      "id": "cb9937ef",
      "metadata": {
        "id": "cb9937ef",
        "outputId": "f338bd22-fced-4865-86d7-fa4975ac0d05"
      },
      "outputs": [
        {
          "name": "stdout",
          "output_type": "stream",
          "text": [
            "a\n",
            "0\n",
            "python\n"
          ]
        }
      ],
      "source": [
        "# Exercise 50\n",
        "def first(s):\n",
        "    return s[0]\n",
        "\n",
        "print(first(\"abc\"))\n",
        "print(first([0, 1, 2]))\n",
        "print(first([\"python\", \"is\", \"awesome\"]))"
      ]
    }
  ],
  "metadata": {
    "kernelspec": {
      "display_name": "Python 3",
      "language": "python",
      "name": "python3"
    },
    "language_info": {
      "codemirror_mode": {
        "name": "ipython",
        "version": 3
      },
      "file_extension": ".py",
      "mimetype": "text/x-python",
      "name": "python",
      "nbconvert_exporter": "python",
      "pygments_lexer": "ipython3",
      "version": "3.8.8"
    },
    "colab": {
      "name": "101_Exercises_final_214514.ipynb",
      "provenance": [],
      "include_colab_link": true
    }
  },
  "nbformat": 4,
  "nbformat_minor": 5
}